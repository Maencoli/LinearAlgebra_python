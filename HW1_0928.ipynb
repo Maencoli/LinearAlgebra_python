{
 "cells": [
  {
   "cell_type": "markdown",
   "metadata": {},
   "source": [
    "# 문제 1. \n",
    "(4점) Derive the Backpropagation algorithm in detail as in P.87-P.97 of Lecture Notes Ch02 Neural networks.pdf"
   ]
  },
  {
   "cell_type": "markdown",
   "metadata": {},
   "source": [
    "_____________________________________________________________________________________________________________________________\n",
    "\n",
    "Deep Learning Coursera 각 문제에서 주어진 쥬피터 노트북에서 다음과 같이 코드 부분을 채우고 (만일 채워져 있으면 그분을 지운후 스스로 답을 채운다) \n",
    "각 문제별 정답률 스코어를 매겨서 전체 채운 코드(주석, 데이터, 이미지등등 삭제)를 하나의 쥬피터 노트북에 작성하여 제출한다. \n",
    "\n",
    "_____________________________________________________________________________________________________________________________"
   ]
  },
  {
   "cell_type": "code",
   "execution_count": null,
   "metadata": {},
   "outputs": [],
   "source": [
    "### START CODE HERE ###\n",
    "class BackPropagation ():\n",
    "    def __init__(self):\n",
    "        ###\n",
    "\n",
    "    def forwardComputation(self):\n",
    "        ###\n",
    "        return\n",
    "    def computeGradient(self):\n",
    "        \n",
    "    def \n",
    "    \n",
    "\n",
    "### END CODE HERE ###"
   ]
  },
  {
   "cell_type": "markdown",
   "metadata": {},
   "source": [
    "# 문제 2. Course 1: Neural Networks and Deep Learning\n",
    "https://github.com/JamesMcGuigan/coursera-deeplearning-specialization/tree/master/01_Neural_Networks_and_Deep_Learning"
   ]
  },
  {
   "cell_type": "markdown",
   "metadata": {},
   "source": [
    "## 1)  (2점) Week 2 - Logistic Regression with a Neural Network mindset\n",
    "https://github.com/JamesMcGuigan/coursera-deeplearning-specialization/blob/master/01_Neural_Networks_and_Deep_Learning/Week%202/Logistic%20Regression%20as%20a%20Neural%20Network/Logistic_Regression_with_a_Neural_Network_mindset_v6a.ipynb"
   ]
  },
  {
   "cell_type": "code",
   "execution_count": null,
   "metadata": {},
   "outputs": [],
   "source": [
    "import numpy as np\n",
    "import matplotlib.pyplot as plt\n",
    "import h5py\n",
    "import scipy\n",
    "from PIL import Image\n",
    "from scipy import ndimage\n",
    "from lr_utils import load_dataset\n",
    "\n",
    "%matplotlib inline"
   ]
  },
  {
   "cell_type": "markdown",
   "metadata": {},
   "source": [
    "## 2)  (2점) Week 3 - Planar data classification with a hidden layer"
   ]
  },
  {
   "cell_type": "code",
   "execution_count": null,
   "metadata": {},
   "outputs": [],
   "source": []
  },
  {
   "cell_type": "markdown",
   "metadata": {},
   "source": [
    "## 3)  (2점) Week 4 - Building your Deep Neural Network: Step by Step"
   ]
  },
  {
   "cell_type": "code",
   "execution_count": null,
   "metadata": {},
   "outputs": [],
   "source": []
  },
  {
   "cell_type": "markdown",
   "metadata": {},
   "source": [
    "## 4)  (2점) Week 4 - Deep Neural Network: Application"
   ]
  },
  {
   "cell_type": "code",
   "execution_count": null,
   "metadata": {},
   "outputs": [],
   "source": []
  },
  {
   "cell_type": "markdown",
   "metadata": {},
   "source": [
    "# 문제 3. Course 2: Improving Deep Neural Networks: Hyperparameter tuning, Regularization and Optimization"
   ]
  },
  {
   "cell_type": "markdown",
   "metadata": {},
   "source": [
    "## 1)  (2점) Week 1 - Initialization"
   ]
  },
  {
   "cell_type": "code",
   "execution_count": null,
   "metadata": {},
   "outputs": [],
   "source": []
  },
  {
   "cell_type": "markdown",
   "metadata": {},
   "source": [
    "## 2)  (2점) Week 1 - Regularization"
   ]
  },
  {
   "cell_type": "code",
   "execution_count": null,
   "metadata": {},
   "outputs": [],
   "source": []
  },
  {
   "cell_type": "markdown",
   "metadata": {},
   "source": [
    "## 3)  (2점) Week 1 - Gradient Checking"
   ]
  },
  {
   "cell_type": "code",
   "execution_count": null,
   "metadata": {},
   "outputs": [],
   "source": []
  },
  {
   "cell_type": "markdown",
   "metadata": {},
   "source": [
    "## 4)  (2점) Week 2 - Optimization"
   ]
  },
  {
   "cell_type": "code",
   "execution_count": null,
   "metadata": {},
   "outputs": [],
   "source": []
  }
 ],
 "metadata": {
  "kernelspec": {
   "display_name": "Python 3.10.0 64-bit",
   "language": "python",
   "name": "python3"
  },
  "language_info": {
   "codemirror_mode": {
    "name": "ipython",
    "version": 3
   },
   "file_extension": ".py",
   "mimetype": "text/x-python",
   "name": "python",
   "nbconvert_exporter": "python",
   "pygments_lexer": "ipython3",
   "version": "3.10.0"
  },
  "orig_nbformat": 4,
  "vscode": {
   "interpreter": {
    "hash": "621a534ec031a6e84e537ae3bc52b8154bbacb5fec3ae3ff8e0988dc1a728e9c"
   }
  }
 },
 "nbformat": 4,
 "nbformat_minor": 2
}
