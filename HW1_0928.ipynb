{
 "cells": [
  {
   "cell_type": "markdown",
   "metadata": {},
   "source": [
    "문제 1. (4점) Derive the Backpropagation algorithm in detail as in P.87-P.97 of Lecture Notes Ch02 Neural networks.pdf"
   ]
  },
  {
   "cell_type": "code",
   "execution_count": null,
   "metadata": {},
   "outputs": [],
   "source": [
    "_____________________________________________________________________________________________________________________________\n",
    "\n",
    "Deep Learning Coursera 각 문제에서 주어진 쥬피터 노트북에서 다음과 같이 코드 부분을 채우고 (만일 채워져 있으면 그분을 지운후 스스로 답을 채운다) \n",
    "\n",
    "### START CODE HERE ###\n",
    "\n",
    "~~~~\n",
    "\n",
    "### END CODE HERE ###\n",
    "\n",
    "각 문제별 정답률 스코어를 매겨서 전체 채운 코드(주석, 데이터, 이미지등등 삭제)를 하나의 쥬피터 노트북에 작성하여 제출한다. \n",
    "\n",
    "_____________________________________________________________________________________________________________________________\n",
    "\n"
   ]
  },
  {
   "cell_type": "markdown",
   "metadata": {},
   "source": [
    "문제 2. Course 1: Neural Networks and Deep Learning\n",
    "\n",
    "1)  (2점) Week 2 - Logistic Regression with a Neural Network mindset\n",
    "2)  (2점) Week 3 - Planar data classification with a hidden layer\n",
    "3)  (2점) Week 4 - Building your Deep Neural Network: Step by Step\n",
    "4)  (2점) Week 4 - Deep Neural Network: Application"
   ]
  },
  {
   "cell_type": "markdown",
   "metadata": {},
   "source": [
    "문제 3. Course 2: Improving Deep Neural Networks: Hyperparameter tuning, Regularization and Optimization\n",
    "\n",
    "1)  (2점) Week 1 - Initialization\n",
    "\n",
    "2)  (2점) Week 1 - Regularization\n",
    "\n",
    "3)  (2점) Week 1 - Gradient Checking\n",
    "\n",
    "4)  (2점) Week 2 - Optimization"
   ]
  }
 ],
 "metadata": {
  "kernelspec": {
   "display_name": "Python 3.10.0 64-bit",
   "language": "python",
   "name": "python3"
  },
  "language_info": {
   "name": "python",
   "version": "3.10.0"
  },
  "orig_nbformat": 4,
  "vscode": {
   "interpreter": {
    "hash": "621a534ec031a6e84e537ae3bc52b8154bbacb5fec3ae3ff8e0988dc1a728e9c"
   }
  }
 },
 "nbformat": 4,
 "nbformat_minor": 2
}
