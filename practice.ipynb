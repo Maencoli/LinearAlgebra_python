{
 "cells": [
  {
   "cell_type": "code",
   "execution_count": 1,
   "metadata": {},
   "outputs": [],
   "source": [
    "import numpy as np\n",
    "\n",
    "class Gaussian():\n",
    "    def __init__(self,A):\n",
    "        self.A = A\n",
    "        self.m = len(A)\n",
    "        self.n = len(A[0])\n",
    "    \n",
    "    def gaussian_LU_wo_pivot(self):\n",
    "        k = 0\n",
    "        for k in range(self.m):\n",
    "            self.A[k+1:self.m+1, k] = self.A[k+1:self.m+1, k]/self.A[k][k]\n",
    "            self.A[k+1:self.m+1, k+1:self.m+1] = self.A[k+1:self.m+1, k+1:self.m+1] - self.A[k+1:self.m+1, k].dot(self.A[k, k+1:self.m+1])\n",
    "\n",
    "        L = np.eye(self.m) + np.tril(self.A, -1)\n",
    "        U = np.triu(self.A)\n",
    "        return L, U\n",
    "\n",
    "    def gaussian_LU_w_pivot(self):\n",
    "        k = 0\n",
    "        p = np.eye(self.m, self.n)\n",
    "        for k in range (self.m):\n",
    "            r = max(enumerate(self.A.T[k][k:self.m]), key = lambda x: abs(x[1]))[0]\n",
    "            q = r + k\n",
    "            print(r, k, q)\n",
    "            new_p, new_A = p[k], self.A[k]\n",
    "            p[k], self.A[k] = p[q], self.A[q]\n",
    "            p[q], self.A[q] = new_p, new_A\n",
    "            if self.A[k][k] != 0:\n",
    "                self.A[k+1:self.m+1, k] = self.A[k+1:self.m+1, k]/self.A[k][k]\n",
    "                self.A[k+1:self.m+1, k+1:self.n+1] = self.A[k+1:self.m+1, k+1:self.n+1] - self.A[k+1:self.m+1, k] @ self.A[k, k+1:self.n+1]\n",
    "\n",
    "        L = np.eye(self.m) + np.tril(self.A, -1)\n",
    "        U = np.triu(self.A)\n",
    "        return L, U\n",
    "    def plsol(self):\n",
    "        "
   ]
  },
  {
   "cell_type": "code",
   "execution_count": 2,
   "metadata": {},
   "outputs": [],
   "source": [
    "a = np.array([[1,1,2],[4,-3,1],[-1,6,6]])\n",
    "b = np.array([[1,3,2],[4,1,1],[0,0,1]])"
   ]
  },
  {
   "cell_type": "code",
   "execution_count": 3,
   "metadata": {},
   "outputs": [
    {
     "data": {
      "text/plain": [
       "(array([[ 1.,  0.,  0.],\n",
       "        [ 4.,  1.,  0.],\n",
       "        [-1.,  0.,  1.]]),\n",
       " array([[ 1,  1,  2],\n",
       "        [ 0, -5, -1],\n",
       "        [ 0,  0,  4]]))"
      ]
     },
     "execution_count": 3,
     "metadata": {},
     "output_type": "execute_result"
    }
   ],
   "source": [
    "G = Gaussian(a)\n",
    "G.gaussian_LU_wo_pivot()"
   ]
  },
  {
   "cell_type": "code",
   "execution_count": 76,
   "metadata": {},
   "outputs": [
    {
     "name": "stdout",
     "output_type": "stream",
     "text": [
      "1 0 1\n",
      "1 1 2\n",
      "0 2 2\n"
     ]
    },
    {
     "data": {
      "text/plain": [
       "(array([[1., 0., 0.],\n",
       "        [0., 1., 0.],\n",
       "        [0., 1., 1.]]),\n",
       " array([[ 4, -5, -1],\n",
       "        [ 0,  5,  9],\n",
       "        [ 0,  0,  0]]))"
      ]
     },
     "execution_count": 76,
     "metadata": {},
     "output_type": "execute_result"
    }
   ],
   "source": [
    "G.gaussian_LU_w_pivot()"
   ]
  }
 ],
 "metadata": {
  "kernelspec": {
   "display_name": "Python 3.10.0 64-bit",
   "language": "python",
   "name": "python3"
  },
  "language_info": {
   "codemirror_mode": {
    "name": "ipython",
    "version": 3
   },
   "file_extension": ".py",
   "mimetype": "text/x-python",
   "name": "python",
   "nbconvert_exporter": "python",
   "pygments_lexer": "ipython3",
   "version": "3.10.0"
  },
  "orig_nbformat": 4,
  "vscode": {
   "interpreter": {
    "hash": "621a534ec031a6e84e537ae3bc52b8154bbacb5fec3ae3ff8e0988dc1a728e9c"
   }
  }
 },
 "nbformat": 4,
 "nbformat_minor": 2
}
