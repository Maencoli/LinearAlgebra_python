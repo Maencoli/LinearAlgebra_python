{
 "cells": [
  {
   "cell_type": "code",
   "execution_count": 8,
   "metadata": {},
   "outputs": [],
   "source": [
    "import numpy as np\n",
    "\n",
    "class Gaussian():\n",
    "    def __init__(self,A):\n",
    "        self.A = A\n",
    "        self.m = len(A)\n",
    "        self.n = len(A[0])\n",
    "    \n",
    "    def gaussian_LU_wo_pivot(self):\n",
    "        k = 0\n",
    "        for k in range(self.m):\n",
    "            self.A[k+1:self.m+1, k] = self.A[k+1:self.m+1, k]/self.A[k][k]\n",
    "            self.A[k+1:self.m+1, k+1:self.m+1] = self.A[k+1:self.m+1, k+1:self.m+1] - self.A[k+1:self.m+1, k].dot(self.A[k, k+1:self.m+1])\n",
    "            print(self.A)\n",
    "\n",
    "        L = np.eye(self.m) + np.tril(self.A, -1)\n",
    "        U = np.triu(self.A)\n",
    "        return L, U\n",
    "\n",
    "    def gaussian_LU_w_pivot(self):\n",
    "        k = 0\n",
    "        p = np.eye(self.m, self.n)\n",
    "        for k in range (self.m):\n",
    "            r = max(enumerate(self.A.T[k][k:self.m]), key = lambda x: abs(x[1]))[0]\n",
    "            q = r + k\n",
    "            print(r, k, q)\n",
    "            new_p, new_A = p[k], self.A[k]\n",
    "            p[k], self.A[k] = p[q], self.A[q]\n",
    "            p[q], self.A[q] = new_p, new_A\n",
    "            if self.A[k][k] != 0:\n",
    "                self.A[k+1:self.m+1, k] = self.A[k+1:self.m+1, k]/self.A[k][k]\n",
    "                self.A[k+1:self.m+1, k+1:self.n+1] = self.A[k+1:self.m+1, k+1:self.n+1] - self.A[k+1:self.m+1, k] * self.A[k, k+1:self.n+1]\n",
    "            print(self.A)\n",
    "\n",
    "        L = np.eye(self.m) + np.tril(self.A, -1)\n",
    "        U = np.triu(self.A)\n",
    "        return L, U\n",
    "    #def plsol(self):\n",
    "        "
   ]
  },
  {
   "cell_type": "code",
   "execution_count": 9,
   "metadata": {},
   "outputs": [],
   "source": [
    "a = np.array([[1,1,2],[4,-3,1],[-1,6,6]])\n",
    "b = np.array([[1,3,2],[4,1,1],[0,0,1]])"
   ]
  },
  {
   "cell_type": "code",
   "execution_count": 31,
   "metadata": {},
   "outputs": [
    {
     "name": "stdout",
     "output_type": "stream",
     "text": [
      "[[ 1  1  2]\n",
      " [ 4 -5 -1]\n",
      " [-1  4  4]]\n",
      "[[ 1  1  2]\n",
      " [ 4 -5 -1]\n",
      " [-1  0  4]]\n",
      "[[ 1  1  2]\n",
      " [ 4 -5 -1]\n",
      " [-1  0  4]]\n"
     ]
    },
    {
     "data": {
      "text/plain": [
       "(array([[ 1.,  0.,  0.],\n",
       "        [ 4.,  1.,  0.],\n",
       "        [-1.,  0.,  1.]]),\n",
       " array([[ 1,  1,  2],\n",
       "        [ 0, -5, -1],\n",
       "        [ 0,  0,  4]]))"
      ]
     },
     "execution_count": 31,
     "metadata": {},
     "output_type": "execute_result"
    }
   ],
   "source": [
    "G = Gaussian(a)\n",
    "G.gaussian_LU_wo_pivot()"
   ]
  },
  {
   "cell_type": "code",
   "execution_count": 32,
   "metadata": {},
   "outputs": [
    {
     "name": "stdout",
     "output_type": "stream",
     "text": [
      "1 0 1\n",
      "[[ 4 -5 -1]\n",
      " [ 1  0 -1]\n",
      " [ 0  5  4]]\n",
      "1 1 2\n",
      "[[ 4 -5 -1]\n",
      " [ 0  5  4]\n",
      " [ 0  1  0]]\n",
      "0 2 2\n",
      "[[ 4 -5 -1]\n",
      " [ 0  5  4]\n",
      " [ 0  1  0]]\n"
     ]
    },
    {
     "data": {
      "text/plain": [
       "(array([[1., 0., 0.],\n",
       "        [0., 1., 0.],\n",
       "        [0., 1., 1.]]),\n",
       " array([[ 4, -5, -1],\n",
       "        [ 0,  5,  4],\n",
       "        [ 0,  0,  0]]))"
      ]
     },
     "execution_count": 32,
     "metadata": {},
     "output_type": "execute_result"
    }
   ],
   "source": [
    "G.gaussian_LU_w_pivot()"
   ]
  },
  {
   "cell_type": "code",
   "execution_count": 17,
   "metadata": {},
   "outputs": [],
   "source": [
    "class Cholesky():\n",
    "    def __init__(self, A):\n",
    "        self.A = A\n",
    "        self.m = len(A)\n",
    "\n",
    "    def cholesky_factorization(self):\n",
    "        k = 0\n",
    "        for k in range (self.m+1):\n",
    "            if self.A[k][k] < 0:\n",
    "                raise Exception('Matrix should be positive definite')\n",
    "        \n",
    "            self.A[k][k] = np.sqrt(self.A[k][k])\n",
    "            self.A[k+1:, k] = self.A[k+1:, k] / self.A[k][k]\n",
    "            for j in range (k+1, self.m+1):\n",
    "                self.A[j:, j] = self.A[j:, j] - self.A[j:, k] @ self.A[j, k]\n",
    "            self.A[k, k+1:self.m+1] = np.zeros(1, self.m-k)\n",
    "        return self.A"
   ]
  },
  {
   "cell_type": "code",
   "execution_count": 18,
   "metadata": {},
   "outputs": [
    {
     "data": {
      "text/plain": [
       "array([[-3,  1],\n",
       "       [ 6,  6]])"
      ]
     },
     "execution_count": 18,
     "metadata": {},
     "output_type": "execute_result"
    }
   ],
   "source": [
    "a[1:, 1:]"
   ]
  },
  {
   "cell_type": "code",
   "execution_count": 19,
   "metadata": {},
   "outputs": [],
   "source": [
    "c = Cholesky(a)"
   ]
  },
  {
   "cell_type": "code",
   "execution_count": 20,
   "metadata": {},
   "outputs": [
    {
     "ename": "ValueError",
     "evalue": "matmul: Input operand 1 does not have enough dimensions (has 0, gufunc core with signature (n?,k),(k,m?)->(n?,m?) requires 1)",
     "output_type": "error",
     "traceback": [
      "\u001b[1;31m---------------------------------------------------------------------------\u001b[0m",
      "\u001b[1;31mValueError\u001b[0m                                Traceback (most recent call last)",
      "\u001b[1;32m~\\AppData\\Local\\Temp/ipykernel_34904/3308362023.py\u001b[0m in \u001b[0;36m<module>\u001b[1;34m\u001b[0m\n\u001b[1;32m----> 1\u001b[1;33m \u001b[0mc\u001b[0m\u001b[1;33m.\u001b[0m\u001b[0mcholesky_factorization\u001b[0m\u001b[1;33m(\u001b[0m\u001b[1;33m)\u001b[0m\u001b[1;33m\u001b[0m\u001b[1;33m\u001b[0m\u001b[0m\n\u001b[0m",
      "\u001b[1;32m~\\AppData\\Local\\Temp/ipykernel_34904/1388855621.py\u001b[0m in \u001b[0;36mcholesky_factorization\u001b[1;34m(self)\u001b[0m\n\u001b[0;32m     13\u001b[0m             \u001b[0mself\u001b[0m\u001b[1;33m.\u001b[0m\u001b[0mA\u001b[0m\u001b[1;33m[\u001b[0m\u001b[0mk\u001b[0m\u001b[1;33m+\u001b[0m\u001b[1;36m1\u001b[0m\u001b[1;33m:\u001b[0m\u001b[1;33m,\u001b[0m \u001b[0mk\u001b[0m\u001b[1;33m]\u001b[0m \u001b[1;33m=\u001b[0m \u001b[0mself\u001b[0m\u001b[1;33m.\u001b[0m\u001b[0mA\u001b[0m\u001b[1;33m[\u001b[0m\u001b[0mk\u001b[0m\u001b[1;33m+\u001b[0m\u001b[1;36m1\u001b[0m\u001b[1;33m:\u001b[0m\u001b[1;33m,\u001b[0m \u001b[0mk\u001b[0m\u001b[1;33m]\u001b[0m \u001b[1;33m/\u001b[0m \u001b[0mself\u001b[0m\u001b[1;33m.\u001b[0m\u001b[0mA\u001b[0m\u001b[1;33m[\u001b[0m\u001b[0mk\u001b[0m\u001b[1;33m]\u001b[0m\u001b[1;33m[\u001b[0m\u001b[0mk\u001b[0m\u001b[1;33m]\u001b[0m\u001b[1;33m\u001b[0m\u001b[1;33m\u001b[0m\u001b[0m\n\u001b[0;32m     14\u001b[0m             \u001b[1;32mfor\u001b[0m \u001b[0mj\u001b[0m \u001b[1;32min\u001b[0m \u001b[0mrange\u001b[0m \u001b[1;33m(\u001b[0m\u001b[0mk\u001b[0m\u001b[1;33m+\u001b[0m\u001b[1;36m1\u001b[0m\u001b[1;33m,\u001b[0m \u001b[0mself\u001b[0m\u001b[1;33m.\u001b[0m\u001b[0mm\u001b[0m\u001b[1;33m+\u001b[0m\u001b[1;36m1\u001b[0m\u001b[1;33m)\u001b[0m\u001b[1;33m:\u001b[0m\u001b[1;33m\u001b[0m\u001b[1;33m\u001b[0m\u001b[0m\n\u001b[1;32m---> 15\u001b[1;33m                 \u001b[0mself\u001b[0m\u001b[1;33m.\u001b[0m\u001b[0mA\u001b[0m\u001b[1;33m[\u001b[0m\u001b[0mj\u001b[0m\u001b[1;33m:\u001b[0m\u001b[1;33m,\u001b[0m \u001b[0mj\u001b[0m\u001b[1;33m]\u001b[0m \u001b[1;33m=\u001b[0m \u001b[0mself\u001b[0m\u001b[1;33m.\u001b[0m\u001b[0mA\u001b[0m\u001b[1;33m[\u001b[0m\u001b[0mj\u001b[0m\u001b[1;33m:\u001b[0m\u001b[1;33m,\u001b[0m \u001b[0mj\u001b[0m\u001b[1;33m]\u001b[0m \u001b[1;33m-\u001b[0m \u001b[0mself\u001b[0m\u001b[1;33m.\u001b[0m\u001b[0mA\u001b[0m\u001b[1;33m[\u001b[0m\u001b[0mj\u001b[0m\u001b[1;33m:\u001b[0m\u001b[1;33m,\u001b[0m \u001b[0mk\u001b[0m\u001b[1;33m]\u001b[0m \u001b[1;33m@\u001b[0m \u001b[0mself\u001b[0m\u001b[1;33m.\u001b[0m\u001b[0mA\u001b[0m\u001b[1;33m[\u001b[0m\u001b[0mj\u001b[0m\u001b[1;33m,\u001b[0m \u001b[0mk\u001b[0m\u001b[1;33m]\u001b[0m\u001b[1;33m\u001b[0m\u001b[1;33m\u001b[0m\u001b[0m\n\u001b[0m\u001b[0;32m     16\u001b[0m             \u001b[0mself\u001b[0m\u001b[1;33m.\u001b[0m\u001b[0mA\u001b[0m\u001b[1;33m[\u001b[0m\u001b[0mk\u001b[0m\u001b[1;33m,\u001b[0m \u001b[0mk\u001b[0m\u001b[1;33m+\u001b[0m\u001b[1;36m1\u001b[0m\u001b[1;33m:\u001b[0m\u001b[0mself\u001b[0m\u001b[1;33m.\u001b[0m\u001b[0mm\u001b[0m\u001b[1;33m+\u001b[0m\u001b[1;36m1\u001b[0m\u001b[1;33m]\u001b[0m \u001b[1;33m=\u001b[0m \u001b[0mnp\u001b[0m\u001b[1;33m.\u001b[0m\u001b[0mzeros\u001b[0m\u001b[1;33m(\u001b[0m\u001b[1;36m1\u001b[0m\u001b[1;33m,\u001b[0m \u001b[0mself\u001b[0m\u001b[1;33m.\u001b[0m\u001b[0mm\u001b[0m\u001b[1;33m-\u001b[0m\u001b[0mk\u001b[0m\u001b[1;33m)\u001b[0m\u001b[1;33m\u001b[0m\u001b[1;33m\u001b[0m\u001b[0m\n\u001b[0;32m     17\u001b[0m         \u001b[1;32mreturn\u001b[0m \u001b[0mself\u001b[0m\u001b[1;33m.\u001b[0m\u001b[0mA\u001b[0m\u001b[1;33m\u001b[0m\u001b[1;33m\u001b[0m\u001b[0m\n",
      "\u001b[1;31mValueError\u001b[0m: matmul: Input operand 1 does not have enough dimensions (has 0, gufunc core with signature (n?,k),(k,m?)->(n?,m?) requires 1)"
     ]
    }
   ],
   "source": [
    "c.cholesky_factorization()"
   ]
  },
  {
   "cell_type": "code",
   "execution_count": null,
   "metadata": {},
   "outputs": [],
   "source": []
  }
 ],
 "metadata": {
  "kernelspec": {
   "display_name": "Python 3.10.0 64-bit",
   "language": "python",
   "name": "python3"
  },
  "language_info": {
   "codemirror_mode": {
    "name": "ipython",
    "version": 3
   },
   "file_extension": ".py",
   "mimetype": "text/x-python",
   "name": "python",
   "nbconvert_exporter": "python",
   "pygments_lexer": "ipython3",
   "version": "3.10.0"
  },
  "orig_nbformat": 4,
  "vscode": {
   "interpreter": {
    "hash": "621a534ec031a6e84e537ae3bc52b8154bbacb5fec3ae3ff8e0988dc1a728e9c"
   }
  }
 },
 "nbformat": 4,
 "nbformat_minor": 2
}
